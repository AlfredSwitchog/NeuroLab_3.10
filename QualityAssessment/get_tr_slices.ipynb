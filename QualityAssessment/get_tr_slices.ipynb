{
 "cells": [
  {
   "cell_type": "code",
   "id": "initial_id",
   "metadata": {
    "collapsed": true,
    "ExecuteTime": {
     "end_time": "2024-05-27T10:44:53.956342Z",
     "start_time": "2024-05-27T10:44:53.377066Z"
    }
   },
   "source": [
    "#: standard imports\n",
    "import numpy as np\n",
    "import matplotlib.pyplot as plt\n",
    "# print arrays to 4 decimal places\n",
    "np.set_printoptions(precision=4, suppress=True)\n",
    "import numpy.linalg as npl\n",
    "import nibabel as nib"
   ],
   "outputs": [],
   "execution_count": 1
  },
  {
   "metadata": {
    "ExecuteTime": {
     "end_time": "2024-05-27T12:04:10.487193Z",
     "start_time": "2024-05-27T12:04:10.480135Z"
    }
   },
   "cell_type": "code",
   "source": [
    "#: load the fixed \"f\" image to get parameters\n",
    "image_path1 = \"/Users/Richard/MatLAB/Data/2705_Sequences/1_2705_D_ep2d_bold_multiband_lido_ish_1pe_4mb_0016/MF20231215143301STD1312211075993-000140-00001-00001-0.nii\"\n",
    "\n",
    "image_path2 = \"/Users/Richard/MatLAB/Data/2705_Sequences/2_2705_ep2d_bold_moco_p2_s2_2mm_0006/MF20231215143301STD1312211075993-000140-00001-00001-0.nii\"\n",
    "\n",
    "image_path3 = \"/Users/Richard/MatLAB/Data/2705_Sequences/3_2705_ep2d_bold_moco_p2_s2_Mareikeish_0018/MF20231215143301STD1312211075993-000140-00001-00001-0.nii\"\n",
    "\n",
    "def get_num_slices(image_path):\n",
    "    img = nib.load(image_path)\n",
    "    num_slices = img.shape[2]\n",
    "    return num_slices\n",
    "\n",
    "\n",
    "print(f\"Num Sices sequence1: {get_num_slices(image_path1)}\")\n",
    "print(f\"Num Sices sequence2: {get_num_slices(image_path2)}\")\n",
    "print(f\"Num Sices sequence2: {get_num_slices(image_path3)}\")"
   ],
   "id": "891f7f8c6230fbb6",
   "outputs": [
    {
     "name": "stdout",
     "output_type": "stream",
     "text": [
      "Num Sices sequence1: 72\n",
      "Num Sices sequence2: 72\n",
      "Num Sices sequence2: 75\n"
     ]
    }
   ],
   "execution_count": 15
  },
  {
   "metadata": {
    "ExecuteTime": {
     "end_time": "2024-05-27T10:57:26.832950Z",
     "start_time": "2024-05-27T10:57:26.828476Z"
    }
   },
   "cell_type": "code",
   "source": [
    "#: get the TR from this image\n",
    "TR = img.header.get_zooms()[-1]\n",
    "TR"
   ],
   "id": "89fc263a3467ae94",
   "outputs": [
    {
     "data": {
      "text/plain": [
       "1.9999995"
      ]
     },
     "execution_count": 11,
     "metadata": {},
     "output_type": "execute_result"
    }
   ],
   "execution_count": 11
  },
  {
   "metadata": {
    "ExecuteTime": {
     "end_time": "2024-05-27T12:04:47.084508Z",
     "start_time": "2024-05-27T12:04:47.080883Z"
    }
   },
   "cell_type": "code",
   "source": "72/3",
   "id": "a9bab5464518232d",
   "outputs": [
    {
     "data": {
      "text/plain": [
       "24.0"
      ]
     },
     "execution_count": 16,
     "metadata": {},
     "output_type": "execute_result"
    }
   ],
   "execution_count": 16
  }
 ],
 "metadata": {
  "kernelspec": {
   "display_name": "Python 3",
   "language": "python",
   "name": "python3"
  },
  "language_info": {
   "codemirror_mode": {
    "name": "ipython",
    "version": 2
   },
   "file_extension": ".py",
   "mimetype": "text/x-python",
   "name": "python",
   "nbconvert_exporter": "python",
   "pygments_lexer": "ipython2",
   "version": "2.7.6"
  }
 },
 "nbformat": 4,
 "nbformat_minor": 5
}
