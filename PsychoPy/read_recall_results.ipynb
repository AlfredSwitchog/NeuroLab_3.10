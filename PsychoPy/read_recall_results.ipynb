{
 "cells": [
  {
   "cell_type": "code",
   "id": "initial_id",
   "metadata": {
    "collapsed": true,
    "ExecuteTime": {
     "end_time": "2024-06-03T20:41:20.369749Z",
     "start_time": "2024-06-03T20:41:20.363002Z"
    }
   },
   "source": [
    "import pandas as pd \n",
    "\n",
    "file_path = \"/Users/Richard/PsychoPy_1/data/TEST_correct_SNORE recall_2024-06-03_22h38.00.934.csv\"\n",
    "\n",
    "data = pd.read_csv(file_path)\n",
    "\n",
    "data[[\"Word1\", \"Word2\", \"Response.text\"]].head(50)"
   ],
   "outputs": [
    {
     "data": {
      "text/plain": [
       "      Word1     Word2 Response.text\n",
       "0       NaN       NaN           NaN\n",
       "1  Landhaus  Prädikat       \\nPlatz\n",
       "2  Training      Höhe     \\nSession\n",
       "3     Deich     Kosak        \\nDamm"
      ],
      "text/html": [
       "<div>\n",
       "<style scoped>\n",
       "    .dataframe tbody tr th:only-of-type {\n",
       "        vertical-align: middle;\n",
       "    }\n",
       "\n",
       "    .dataframe tbody tr th {\n",
       "        vertical-align: top;\n",
       "    }\n",
       "\n",
       "    .dataframe thead th {\n",
       "        text-align: right;\n",
       "    }\n",
       "</style>\n",
       "<table border=\"1\" class=\"dataframe\">\n",
       "  <thead>\n",
       "    <tr style=\"text-align: right;\">\n",
       "      <th></th>\n",
       "      <th>Word1</th>\n",
       "      <th>Word2</th>\n",
       "      <th>Response.text</th>\n",
       "    </tr>\n",
       "  </thead>\n",
       "  <tbody>\n",
       "    <tr>\n",
       "      <th>0</th>\n",
       "      <td>NaN</td>\n",
       "      <td>NaN</td>\n",
       "      <td>NaN</td>\n",
       "    </tr>\n",
       "    <tr>\n",
       "      <th>1</th>\n",
       "      <td>Landhaus</td>\n",
       "      <td>Prädikat</td>\n",
       "      <td>\\nPlatz</td>\n",
       "    </tr>\n",
       "    <tr>\n",
       "      <th>2</th>\n",
       "      <td>Training</td>\n",
       "      <td>Höhe</td>\n",
       "      <td>\\nSession</td>\n",
       "    </tr>\n",
       "    <tr>\n",
       "      <th>3</th>\n",
       "      <td>Deich</td>\n",
       "      <td>Kosak</td>\n",
       "      <td>\\nDamm</td>\n",
       "    </tr>\n",
       "  </tbody>\n",
       "</table>\n",
       "</div>"
      ]
     },
     "execution_count": 3,
     "metadata": {},
     "output_type": "execute_result"
    }
   ],
   "execution_count": 3
  }
 ],
 "metadata": {
  "kernelspec": {
   "display_name": "Python 3",
   "language": "python",
   "name": "python3"
  },
  "language_info": {
   "codemirror_mode": {
    "name": "ipython",
    "version": 2
   },
   "file_extension": ".py",
   "mimetype": "text/x-python",
   "name": "python",
   "nbconvert_exporter": "python",
   "pygments_lexer": "ipython2",
   "version": "2.7.6"
  }
 },
 "nbformat": 4,
 "nbformat_minor": 5
}
